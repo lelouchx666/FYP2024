{
 "cells": [
  {
   "cell_type": "code",
   "execution_count": 164,
   "id": "eceac1a9",
   "metadata": {},
   "outputs": [],
   "source": [
    "#standard data analysis libraries\n",
    "import numpy as np\n",
    "import pandas as pd\n",
    "import seaborn as sns\n",
    "import matplotlib.pyplot as plt\n",
    "\n",
    "#natural language toolkit for processing\n",
    "import nltk\n",
    "from nltk.corpus import stopwords\n",
    "\n",
    "import re\n",
    "import html\n",
    "import string\n",
    "from sklearn import preprocessing\n",
    "\n",
    "#for fasttext\n",
    "import fasttext\n",
    "\n",
    "#for XLNet\n",
    "from transformers import XLNetTokenizer, XLNetModel\n",
    "import torch\n",
    "import sentencepiece as spm\n",
    "\n",
    "# NLP models\n",
    "from sklearn.model_selection import train_test_split\n",
    "from sklearn.naive_bayes import MultinomialNB\n",
    "from sklearn.preprocessing import MinMaxScaler\n",
    "from sklearn.linear_model import LogisticRegression\n",
    "from sklearn.ensemble import RandomForestClassifier\n",
    "from sklearn.svm import SVC\n",
    "from sklearn.metrics import accuracy_score, classification_report, confusion_matrix\n",
    "\n",
    "import timeit"
   ]
  },
  {
   "cell_type": "code",
   "execution_count": 165,
   "id": "8daf534f",
   "metadata": {},
   "outputs": [
    {
     "name": "stdout",
     "output_type": "stream",
     "text": [
      "   id                                              tweet label\n",
      "0   1  The CDC currently reports 99031 deaths. In gen...  real\n",
      "1   2  States reported 1121 deaths a small rise from ...  real\n",
      "2   3  Politically Correct Woman (Almost) Uses Pandem...  fake\n",
      "3   4  #IndiaFightsCorona: We have 1524 #COVID testin...  real\n",
      "4   5  Populous states can generate large case counts...  real\n",
      "\n",
      "\n",
      "   id                                              tweet label\n",
      "0   1  Chinese converting to Islam after realising th...  fake\n",
      "1   2  11 out of 13 people (from the Diamond Princess...  fake\n",
      "2   3  COVID-19 Is Caused By A Bacterium, Not Virus A...  fake\n",
      "3   4  Mike Pence in RNC speech praises Donald Trump’...  fake\n",
      "4   5  6/10 Sky's @EdConwaySky explains the latest #C...  real\n"
     ]
    }
   ],
   "source": [
    "#importing datasets\n",
    "df_train = pd.read_csv(\"Constraint_Train.csv\")\n",
    "df_test = pd.read_csv(\"test1.csv\")\n",
    "\n",
    "print(df_train.head())\n",
    "print('\\n')\n",
    "print(df_test.head())\n"
   ]
  },
  {
   "cell_type": "code",
   "execution_count": 166,
   "id": "aa94d9bf",
   "metadata": {},
   "outputs": [
    {
     "name": "stdout",
     "output_type": "stream",
     "text": [
      "<class 'pandas.core.frame.DataFrame'>\n",
      "RangeIndex: 6420 entries, 0 to 6419\n",
      "Data columns (total 3 columns):\n",
      " #   Column  Non-Null Count  Dtype \n",
      "---  ------  --------------  ----- \n",
      " 0   id      6420 non-null   int64 \n",
      " 1   tweet   6420 non-null   object\n",
      " 2   label   6420 non-null   object\n",
      "dtypes: int64(1), object(2)\n",
      "memory usage: 150.6+ KB\n",
      "\n",
      "\n",
      "<class 'pandas.core.frame.DataFrame'>\n",
      "RangeIndex: 2140 entries, 0 to 2139\n",
      "Data columns (total 3 columns):\n",
      " #   Column  Non-Null Count  Dtype \n",
      "---  ------  --------------  ----- \n",
      " 0   id      2140 non-null   int64 \n",
      " 1   tweet   2140 non-null   object\n",
      " 2   label   2140 non-null   object\n",
      "dtypes: int64(1), object(2)\n",
      "memory usage: 50.3+ KB\n"
     ]
    }
   ],
   "source": [
    "#take a look at dataset\n",
    "df_train.info()\n",
    "print('\\n')\n",
    "df_test.info()"
   ]
  },
  {
   "cell_type": "code",
   "execution_count": 167,
   "id": "ee0dac9a",
   "metadata": {
    "scrolled": true
   },
   "outputs": [
    {
     "name": "stdout",
     "output_type": "stream",
     "text": [
      "label\n",
      "real    3360\n",
      "fake    3060\n",
      "Name: count, dtype: int64\n",
      "\n",
      "\n",
      "label\n",
      "real    1120\n",
      "fake    1020\n",
      "Name: count, dtype: int64\n"
     ]
    }
   ],
   "source": [
    "#getting a count of fake & real entries for train dataset\n",
    "print(df_train[\"label\"].value_counts())\n",
    "print('\\n')\n",
    "print(df_test[\"label\"].value_counts())"
   ]
  },
  {
   "cell_type": "code",
   "execution_count": 168,
   "id": "95d30c62",
   "metadata": {},
   "outputs": [],
   "source": [
    "#saving punctuations and stopwords into variables for preprocessing\n",
    "punctuations = string.punctuation\n",
    "\n",
    "STOP = stopwords.words(\"english\")"
   ]
  },
  {
   "cell_type": "code",
   "execution_count": 169,
   "id": "69340eb1",
   "metadata": {},
   "outputs": [],
   "source": [
    "#function to remove punctuation and stopwords from tweets and lowercasing the tweets\n",
    "def cleanTweets(tweetParse):\n",
    "    for i in range(0, len(tweetParse)):\n",
    "        tweet = tweetParse[i]\n",
    "        tweet = html.unescape(tweet)\n",
    "        tweet = re.sub(r\"@\\w+\", \" \", tweet)\n",
    "        tweet = re.sub(r\"http\\S+\", \" \", tweet)\n",
    "        tweet = \"\".join([punc for punc in tweet if not punc in punctuations])\n",
    "        tweet = tweet.lower()\n",
    "        \n",
    "        tweetWord = tweet.split()\n",
    "        tweetParse[i] = \"\".join([word + \" \" for word in tweetWord if not word in STOP])\n",
    "    return tweetParse"
   ]
  },
  {
   "cell_type": "code",
   "execution_count": 170,
   "id": "0dc1d1b6",
   "metadata": {},
   "outputs": [
    {
     "data": {
      "text/html": [
       "<div>\n",
       "<style scoped>\n",
       "    .dataframe tbody tr th:only-of-type {\n",
       "        vertical-align: middle;\n",
       "    }\n",
       "\n",
       "    .dataframe tbody tr th {\n",
       "        vertical-align: top;\n",
       "    }\n",
       "\n",
       "    .dataframe thead th {\n",
       "        text-align: right;\n",
       "    }\n",
       "</style>\n",
       "<table border=\"1\" class=\"dataframe\">\n",
       "  <thead>\n",
       "    <tr style=\"text-align: right;\">\n",
       "      <th></th>\n",
       "      <th>id</th>\n",
       "      <th>tweet</th>\n",
       "      <th>label</th>\n",
       "      <th>cleanTweet</th>\n",
       "    </tr>\n",
       "  </thead>\n",
       "  <tbody>\n",
       "    <tr>\n",
       "      <th>0</th>\n",
       "      <td>1</td>\n",
       "      <td>The CDC currently reports 99031 deaths. In gen...</td>\n",
       "      <td>real</td>\n",
       "      <td>cdc currently reports 99031 deaths general dis...</td>\n",
       "    </tr>\n",
       "    <tr>\n",
       "      <th>1</th>\n",
       "      <td>2</td>\n",
       "      <td>States reported 1121 deaths a small rise from ...</td>\n",
       "      <td>real</td>\n",
       "      <td>states reported 1121 deaths small rise last tu...</td>\n",
       "    </tr>\n",
       "    <tr>\n",
       "      <th>2</th>\n",
       "      <td>3</td>\n",
       "      <td>Politically Correct Woman (Almost) Uses Pandem...</td>\n",
       "      <td>fake</td>\n",
       "      <td>politically correct woman almost uses pandemic...</td>\n",
       "    </tr>\n",
       "    <tr>\n",
       "      <th>3</th>\n",
       "      <td>4</td>\n",
       "      <td>#IndiaFightsCorona: We have 1524 #COVID testin...</td>\n",
       "      <td>real</td>\n",
       "      <td>indiafightscorona 1524 covid testing laborator...</td>\n",
       "    </tr>\n",
       "    <tr>\n",
       "      <th>4</th>\n",
       "      <td>5</td>\n",
       "      <td>Populous states can generate large case counts...</td>\n",
       "      <td>real</td>\n",
       "      <td>populous states generate large case counts loo...</td>\n",
       "    </tr>\n",
       "  </tbody>\n",
       "</table>\n",
       "</div>"
      ],
      "text/plain": [
       "   id                                              tweet label  \\\n",
       "0   1  The CDC currently reports 99031 deaths. In gen...  real   \n",
       "1   2  States reported 1121 deaths a small rise from ...  real   \n",
       "2   3  Politically Correct Woman (Almost) Uses Pandem...  fake   \n",
       "3   4  #IndiaFightsCorona: We have 1524 #COVID testin...  real   \n",
       "4   5  Populous states can generate large case counts...  real   \n",
       "\n",
       "                                          cleanTweet  \n",
       "0  cdc currently reports 99031 deaths general dis...  \n",
       "1  states reported 1121 deaths small rise last tu...  \n",
       "2  politically correct woman almost uses pandemic...  \n",
       "3  indiafightscorona 1524 covid testing laborator...  \n",
       "4  populous states generate large case counts loo...  "
      ]
     },
     "execution_count": 170,
     "metadata": {},
     "output_type": "execute_result"
    }
   ],
   "source": [
    "#clean tweets and place them into new column\n",
    "df_train[\"cleanTweet\"] = cleanTweets(df_train[\"tweet\"].copy())\n",
    "df_test[\"cleanTweet\"] = cleanTweets(df_test[\"tweet\"].copy())\n",
    "\n",
    "#checking if function works for df_train\n",
    "df_train.head()"
   ]
  },
  {
   "cell_type": "code",
   "execution_count": 171,
   "id": "a2fd39de",
   "metadata": {},
   "outputs": [
    {
     "data": {
      "text/html": [
       "<div>\n",
       "<style scoped>\n",
       "    .dataframe tbody tr th:only-of-type {\n",
       "        vertical-align: middle;\n",
       "    }\n",
       "\n",
       "    .dataframe tbody tr th {\n",
       "        vertical-align: top;\n",
       "    }\n",
       "\n",
       "    .dataframe thead th {\n",
       "        text-align: right;\n",
       "    }\n",
       "</style>\n",
       "<table border=\"1\" class=\"dataframe\">\n",
       "  <thead>\n",
       "    <tr style=\"text-align: right;\">\n",
       "      <th></th>\n",
       "      <th>id</th>\n",
       "      <th>tweet</th>\n",
       "      <th>label</th>\n",
       "      <th>cleanTweet</th>\n",
       "    </tr>\n",
       "  </thead>\n",
       "  <tbody>\n",
       "    <tr>\n",
       "      <th>0</th>\n",
       "      <td>1</td>\n",
       "      <td>Chinese converting to Islam after realising th...</td>\n",
       "      <td>fake</td>\n",
       "      <td>chinese converting islam realising muslim affe...</td>\n",
       "    </tr>\n",
       "    <tr>\n",
       "      <th>1</th>\n",
       "      <td>2</td>\n",
       "      <td>11 out of 13 people (from the Diamond Princess...</td>\n",
       "      <td>fake</td>\n",
       "      <td>11 13 people diamond princess cruise ship inti...</td>\n",
       "    </tr>\n",
       "    <tr>\n",
       "      <th>2</th>\n",
       "      <td>3</td>\n",
       "      <td>COVID-19 Is Caused By A Bacterium, Not Virus A...</td>\n",
       "      <td>fake</td>\n",
       "      <td>covid19 caused bacterium virus treated aspirin</td>\n",
       "    </tr>\n",
       "    <tr>\n",
       "      <th>3</th>\n",
       "      <td>4</td>\n",
       "      <td>Mike Pence in RNC speech praises Donald Trump’...</td>\n",
       "      <td>fake</td>\n",
       "      <td>mike pence rnc speech praises donald trump’s c...</td>\n",
       "    </tr>\n",
       "    <tr>\n",
       "      <th>4</th>\n",
       "      <td>5</td>\n",
       "      <td>6/10 Sky's @EdConwaySky explains the latest #C...</td>\n",
       "      <td>real</td>\n",
       "      <td>610 skys explains latest covid19 data governme...</td>\n",
       "    </tr>\n",
       "  </tbody>\n",
       "</table>\n",
       "</div>"
      ],
      "text/plain": [
       "   id                                              tweet label  \\\n",
       "0   1  Chinese converting to Islam after realising th...  fake   \n",
       "1   2  11 out of 13 people (from the Diamond Princess...  fake   \n",
       "2   3  COVID-19 Is Caused By A Bacterium, Not Virus A...  fake   \n",
       "3   4  Mike Pence in RNC speech praises Donald Trump’...  fake   \n",
       "4   5  6/10 Sky's @EdConwaySky explains the latest #C...  real   \n",
       "\n",
       "                                          cleanTweet  \n",
       "0  chinese converting islam realising muslim affe...  \n",
       "1  11 13 people diamond princess cruise ship inti...  \n",
       "2    covid19 caused bacterium virus treated aspirin   \n",
       "3  mike pence rnc speech praises donald trump’s c...  \n",
       "4  610 skys explains latest covid19 data governme...  "
      ]
     },
     "execution_count": 171,
     "metadata": {},
     "output_type": "execute_result"
    }
   ],
   "source": [
    "#checking if function works for df_test\n",
    "df_test.head()"
   ]
  },
  {
   "cell_type": "code",
   "execution_count": 172,
   "id": "5dbe756d",
   "metadata": {},
   "outputs": [
    {
     "data": {
      "text/html": [
       "<div>\n",
       "<style scoped>\n",
       "    .dataframe tbody tr th:only-of-type {\n",
       "        vertical-align: middle;\n",
       "    }\n",
       "\n",
       "    .dataframe tbody tr th {\n",
       "        vertical-align: top;\n",
       "    }\n",
       "\n",
       "    .dataframe thead th {\n",
       "        text-align: right;\n",
       "    }\n",
       "</style>\n",
       "<table border=\"1\" class=\"dataframe\">\n",
       "  <thead>\n",
       "    <tr style=\"text-align: right;\">\n",
       "      <th></th>\n",
       "      <th>id</th>\n",
       "      <th>tweet</th>\n",
       "      <th>label</th>\n",
       "      <th>cleanTweet</th>\n",
       "      <th>encodedLabel</th>\n",
       "    </tr>\n",
       "  </thead>\n",
       "  <tbody>\n",
       "    <tr>\n",
       "      <th>0</th>\n",
       "      <td>1</td>\n",
       "      <td>The CDC currently reports 99031 deaths. In gen...</td>\n",
       "      <td>real</td>\n",
       "      <td>cdc currently reports 99031 deaths general dis...</td>\n",
       "      <td>1</td>\n",
       "    </tr>\n",
       "    <tr>\n",
       "      <th>1</th>\n",
       "      <td>2</td>\n",
       "      <td>States reported 1121 deaths a small rise from ...</td>\n",
       "      <td>real</td>\n",
       "      <td>states reported 1121 deaths small rise last tu...</td>\n",
       "      <td>1</td>\n",
       "    </tr>\n",
       "    <tr>\n",
       "      <th>2</th>\n",
       "      <td>3</td>\n",
       "      <td>Politically Correct Woman (Almost) Uses Pandem...</td>\n",
       "      <td>fake</td>\n",
       "      <td>politically correct woman almost uses pandemic...</td>\n",
       "      <td>0</td>\n",
       "    </tr>\n",
       "    <tr>\n",
       "      <th>3</th>\n",
       "      <td>4</td>\n",
       "      <td>#IndiaFightsCorona: We have 1524 #COVID testin...</td>\n",
       "      <td>real</td>\n",
       "      <td>indiafightscorona 1524 covid testing laborator...</td>\n",
       "      <td>1</td>\n",
       "    </tr>\n",
       "    <tr>\n",
       "      <th>4</th>\n",
       "      <td>5</td>\n",
       "      <td>Populous states can generate large case counts...</td>\n",
       "      <td>real</td>\n",
       "      <td>populous states generate large case counts loo...</td>\n",
       "      <td>1</td>\n",
       "    </tr>\n",
       "  </tbody>\n",
       "</table>\n",
       "</div>"
      ],
      "text/plain": [
       "   id                                              tweet label  \\\n",
       "0   1  The CDC currently reports 99031 deaths. In gen...  real   \n",
       "1   2  States reported 1121 deaths a small rise from ...  real   \n",
       "2   3  Politically Correct Woman (Almost) Uses Pandem...  fake   \n",
       "3   4  #IndiaFightsCorona: We have 1524 #COVID testin...  real   \n",
       "4   5  Populous states can generate large case counts...  real   \n",
       "\n",
       "                                          cleanTweet  encodedLabel  \n",
       "0  cdc currently reports 99031 deaths general dis...             1  \n",
       "1  states reported 1121 deaths small rise last tu...             1  \n",
       "2  politically correct woman almost uses pandemic...             0  \n",
       "3  indiafightscorona 1524 covid testing laborator...             1  \n",
       "4  populous states generate large case counts loo...             1  "
      ]
     },
     "execution_count": 172,
     "metadata": {},
     "output_type": "execute_result"
    }
   ],
   "source": [
    "#encoding label into binary form\n",
    "label_encoder = preprocessing.LabelEncoder()\n",
    "dummyTrain = label_encoder.fit_transform(df_train[\"label\"])\n",
    "dummyTest = label_encoder.fit_transform(df_test[\"label\"])\n",
    "\n",
    "df_train[\"encodedLabel\"] = dummyTrain\n",
    "df_test[\"encodedLabel\"] = dummyTest\n",
    "\n",
    "#checking if encoder works\n",
    "df_train.head()"
   ]
  },
  {
   "cell_type": "code",
   "execution_count": 173,
   "id": "a7660efb",
   "metadata": {},
   "outputs": [
    {
     "data": {
      "text/html": [
       "<div>\n",
       "<style scoped>\n",
       "    .dataframe tbody tr th:only-of-type {\n",
       "        vertical-align: middle;\n",
       "    }\n",
       "\n",
       "    .dataframe tbody tr th {\n",
       "        vertical-align: top;\n",
       "    }\n",
       "\n",
       "    .dataframe thead th {\n",
       "        text-align: right;\n",
       "    }\n",
       "</style>\n",
       "<table border=\"1\" class=\"dataframe\">\n",
       "  <thead>\n",
       "    <tr style=\"text-align: right;\">\n",
       "      <th></th>\n",
       "      <th>cleanTweet</th>\n",
       "      <th>encodedLabel</th>\n",
       "    </tr>\n",
       "  </thead>\n",
       "  <tbody>\n",
       "    <tr>\n",
       "      <th>0</th>\n",
       "      <td>cdc currently reports 99031 deaths general dis...</td>\n",
       "      <td>1</td>\n",
       "    </tr>\n",
       "    <tr>\n",
       "      <th>1</th>\n",
       "      <td>states reported 1121 deaths small rise last tu...</td>\n",
       "      <td>1</td>\n",
       "    </tr>\n",
       "    <tr>\n",
       "      <th>2</th>\n",
       "      <td>politically correct woman almost uses pandemic...</td>\n",
       "      <td>0</td>\n",
       "    </tr>\n",
       "    <tr>\n",
       "      <th>3</th>\n",
       "      <td>indiafightscorona 1524 covid testing laborator...</td>\n",
       "      <td>1</td>\n",
       "    </tr>\n",
       "    <tr>\n",
       "      <th>4</th>\n",
       "      <td>populous states generate large case counts loo...</td>\n",
       "      <td>1</td>\n",
       "    </tr>\n",
       "  </tbody>\n",
       "</table>\n",
       "</div>"
      ],
      "text/plain": [
       "                                          cleanTweet  encodedLabel\n",
       "0  cdc currently reports 99031 deaths general dis...             1\n",
       "1  states reported 1121 deaths small rise last tu...             1\n",
       "2  politically correct woman almost uses pandemic...             0\n",
       "3  indiafightscorona 1524 covid testing laborator...             1\n",
       "4  populous states generate large case counts loo...             1"
      ]
     },
     "execution_count": 173,
     "metadata": {},
     "output_type": "execute_result"
    }
   ],
   "source": [
    "#cleaning of train dataset\n",
    "#dropping tweet and label columns\n",
    "df_train.drop(['id', 'tweet', 'label'], axis= 'columns', inplace=True)\n",
    "\n",
    "df_train.head()"
   ]
  },
  {
   "cell_type": "code",
   "execution_count": 174,
   "id": "edca3079",
   "metadata": {},
   "outputs": [
    {
     "data": {
      "text/html": [
       "<div>\n",
       "<style scoped>\n",
       "    .dataframe tbody tr th:only-of-type {\n",
       "        vertical-align: middle;\n",
       "    }\n",
       "\n",
       "    .dataframe tbody tr th {\n",
       "        vertical-align: top;\n",
       "    }\n",
       "\n",
       "    .dataframe thead th {\n",
       "        text-align: right;\n",
       "    }\n",
       "</style>\n",
       "<table border=\"1\" class=\"dataframe\">\n",
       "  <thead>\n",
       "    <tr style=\"text-align: right;\">\n",
       "      <th></th>\n",
       "      <th>cleanTweet</th>\n",
       "      <th>encodedLabel</th>\n",
       "    </tr>\n",
       "  </thead>\n",
       "  <tbody>\n",
       "    <tr>\n",
       "      <th>0</th>\n",
       "      <td>chinese converting islam realising muslim affe...</td>\n",
       "      <td>0</td>\n",
       "    </tr>\n",
       "    <tr>\n",
       "      <th>1</th>\n",
       "      <td>11 13 people diamond princess cruise ship inti...</td>\n",
       "      <td>0</td>\n",
       "    </tr>\n",
       "    <tr>\n",
       "      <th>2</th>\n",
       "      <td>covid19 caused bacterium virus treated aspirin</td>\n",
       "      <td>0</td>\n",
       "    </tr>\n",
       "    <tr>\n",
       "      <th>3</th>\n",
       "      <td>mike pence rnc speech praises donald trump’s c...</td>\n",
       "      <td>0</td>\n",
       "    </tr>\n",
       "    <tr>\n",
       "      <th>4</th>\n",
       "      <td>610 skys explains latest covid19 data governme...</td>\n",
       "      <td>1</td>\n",
       "    </tr>\n",
       "  </tbody>\n",
       "</table>\n",
       "</div>"
      ],
      "text/plain": [
       "                                          cleanTweet  encodedLabel\n",
       "0  chinese converting islam realising muslim affe...             0\n",
       "1  11 13 people diamond princess cruise ship inti...             0\n",
       "2    covid19 caused bacterium virus treated aspirin              0\n",
       "3  mike pence rnc speech praises donald trump’s c...             0\n",
       "4  610 skys explains latest covid19 data governme...             1"
      ]
     },
     "execution_count": 174,
     "metadata": {},
     "output_type": "execute_result"
    }
   ],
   "source": [
    "#cleaning of test dataset\n",
    "#dropping id and tweet column\n",
    "df_test.drop(['id', 'tweet', 'label'], axis='columns', inplace=True)\n",
    "\n",
    "df_test.head()"
   ]
  },
  {
   "cell_type": "code",
   "execution_count": 175,
   "id": "b2795142",
   "metadata": {},
   "outputs": [
    {
     "name": "stderr",
     "output_type": "stream",
     "text": [
      "Warning : `load_model` does not return WordVectorModel or SupervisedModel any more, but a `FastText` object which is very similar.\n"
     ]
    }
   ],
   "source": [
    "#loading of fasttext model\n",
    "fasttext_model = fasttext.load_model('wiki.simple.bin')\n",
    "\n",
    "#function to do feature extraction\n",
    "def get_fasttext_features(sentence):\n",
    "    words = sentence.split()\n",
    "    vectors = [fasttext_model.get_word_vector(word) for word in words]\n",
    "    avg_vector = sum(vectors) / len(vectors)\n",
    "    return avg_vector"
   ]
  },
  {
   "cell_type": "code",
   "execution_count": 176,
   "id": "efd89c6f",
   "metadata": {},
   "outputs": [],
   "source": [
    "#loading of pretrained XLNet model and tokenizer\n",
    "tokenizer = XLNetTokenizer.from_pretrained('xlnet-base-cased')\n",
    "xlnet_model = XLNetModel.from_pretrained('xlnet-base-cased')\n",
    "\n",
    "#function to generate XLNet features for a sentence\n",
    "def get_xlnet_features(sentence):\n",
    "    inputs = tokenizer(sentence, return_tensors='pt', max_length=512, truncation=True)\n",
    "    outputs = xlnet_model(**inputs)\n",
    "    last_hidden_states = outputs.last_hidden_state\n",
    "    avg_pooled = torch.mean(last_hidden_states, dim=1).squeeze()\n",
    "    return avg_pooled.detach().numpy()"
   ]
  },
  {
   "cell_type": "code",
   "execution_count": 177,
   "id": "3ebfc31f",
   "metadata": {},
   "outputs": [
    {
     "name": "stdout",
     "output_type": "stream",
     "text": [
      "Time taken to extract features from train dataset with fasttext: 0.9476410001516342\n"
     ]
    }
   ],
   "source": [
    "#applying function to train dataset\n",
    "#retrieving time taken\n",
    "start_time = timeit.default_timer()\n",
    "df_train['fasttext_features'] = df_train['cleanTweet'].apply(get_fasttext_features)\n",
    "elapsed = timeit.default_timer() - start_time\n",
    "print(f'Time taken to extract features from train dataset with fasttext: {elapsed}')"
   ]
  },
  {
   "cell_type": "code",
   "execution_count": 178,
   "id": "42da48a7",
   "metadata": {},
   "outputs": [
    {
     "name": "stdout",
     "output_type": "stream",
     "text": [
      "Time taken to extract features from train dataset with XLNet: 289.4137211248744\n"
     ]
    }
   ],
   "source": [
    "#applying XLNet function to train dataset\n",
    "#retrieving time taken\n",
    "start_time = timeit.default_timer()\n",
    "df_train['xlnet_features'] = df_train['cleanTweet'].apply(get_xlnet_features)\n",
    "elapsed = timeit.default_timer() - start_time\n",
    "print(f'Time taken to extract features from train dataset with XLNet: {elapsed}')"
   ]
  },
  {
   "cell_type": "code",
   "execution_count": 179,
   "id": "28e40d0e",
   "metadata": {
    "scrolled": false
   },
   "outputs": [
    {
     "data": {
      "text/html": [
       "<div>\n",
       "<style scoped>\n",
       "    .dataframe tbody tr th:only-of-type {\n",
       "        vertical-align: middle;\n",
       "    }\n",
       "\n",
       "    .dataframe tbody tr th {\n",
       "        vertical-align: top;\n",
       "    }\n",
       "\n",
       "    .dataframe thead th {\n",
       "        text-align: right;\n",
       "    }\n",
       "</style>\n",
       "<table border=\"1\" class=\"dataframe\">\n",
       "  <thead>\n",
       "    <tr style=\"text-align: right;\">\n",
       "      <th></th>\n",
       "      <th>cleanTweet</th>\n",
       "      <th>encodedLabel</th>\n",
       "      <th>fasttext_features</th>\n",
       "      <th>xlnet_features</th>\n",
       "    </tr>\n",
       "  </thead>\n",
       "  <tbody>\n",
       "    <tr>\n",
       "      <th>0</th>\n",
       "      <td>cdc currently reports 99031 deaths general dis...</td>\n",
       "      <td>1</td>\n",
       "      <td>[0.15246023, -0.15250677, 0.053375464, -0.2004...</td>\n",
       "      <td>[-0.591332, 1.3220596, -1.2890038, 0.43662465,...</td>\n",
       "    </tr>\n",
       "    <tr>\n",
       "      <th>1</th>\n",
       "      <td>states reported 1121 deaths small rise last tu...</td>\n",
       "      <td>1</td>\n",
       "      <td>[0.21843885, -0.2629997, -0.04008166, -0.10784...</td>\n",
       "      <td>[0.25671953, 2.420395, -2.559547, 2.5866818, -...</td>\n",
       "    </tr>\n",
       "    <tr>\n",
       "      <th>2</th>\n",
       "      <td>politically correct woman almost uses pandemic...</td>\n",
       "      <td>0</td>\n",
       "      <td>[0.10240695, 0.05278797, 0.10026813, -0.115677...</td>\n",
       "      <td>[1.6209552, 1.4003724, -0.060141277, 1.9227209...</td>\n",
       "    </tr>\n",
       "    <tr>\n",
       "      <th>3</th>\n",
       "      <td>indiafightscorona 1524 covid testing laborator...</td>\n",
       "      <td>1</td>\n",
       "      <td>[0.15502764, -0.004772112, 0.106178775, -0.168...</td>\n",
       "      <td>[-0.8387828, 1.4871421, -1.6803803, 2.005351, ...</td>\n",
       "    </tr>\n",
       "    <tr>\n",
       "      <th>4</th>\n",
       "      <td>populous states generate large case counts loo...</td>\n",
       "      <td>1</td>\n",
       "      <td>[0.13204077, -0.10095969, 0.12423663, -0.17807...</td>\n",
       "      <td>[-0.36012238, 2.6860003, -1.738005, 2.3930886,...</td>\n",
       "    </tr>\n",
       "  </tbody>\n",
       "</table>\n",
       "</div>"
      ],
      "text/plain": [
       "                                          cleanTweet  encodedLabel  \\\n",
       "0  cdc currently reports 99031 deaths general dis...             1   \n",
       "1  states reported 1121 deaths small rise last tu...             1   \n",
       "2  politically correct woman almost uses pandemic...             0   \n",
       "3  indiafightscorona 1524 covid testing laborator...             1   \n",
       "4  populous states generate large case counts loo...             1   \n",
       "\n",
       "                                   fasttext_features  \\\n",
       "0  [0.15246023, -0.15250677, 0.053375464, -0.2004...   \n",
       "1  [0.21843885, -0.2629997, -0.04008166, -0.10784...   \n",
       "2  [0.10240695, 0.05278797, 0.10026813, -0.115677...   \n",
       "3  [0.15502764, -0.004772112, 0.106178775, -0.168...   \n",
       "4  [0.13204077, -0.10095969, 0.12423663, -0.17807...   \n",
       "\n",
       "                                      xlnet_features  \n",
       "0  [-0.591332, 1.3220596, -1.2890038, 0.43662465,...  \n",
       "1  [0.25671953, 2.420395, -2.559547, 2.5866818, -...  \n",
       "2  [1.6209552, 1.4003724, -0.060141277, 1.9227209...  \n",
       "3  [-0.8387828, 1.4871421, -1.6803803, 2.005351, ...  \n",
       "4  [-0.36012238, 2.6860003, -1.738005, 2.3930886,...  "
      ]
     },
     "execution_count": 179,
     "metadata": {},
     "output_type": "execute_result"
    }
   ],
   "source": [
    "#taking a look at 'new' train dataset\n",
    "df_train.head()"
   ]
  },
  {
   "cell_type": "code",
   "execution_count": 180,
   "id": "95cab8e5",
   "metadata": {},
   "outputs": [
    {
     "name": "stdout",
     "output_type": "stream",
     "text": [
      "Time taken to extract features from test dataset with fasttext: 1.6608560420572758\n"
     ]
    }
   ],
   "source": [
    "#applying function to test dataset\n",
    "#retrieving time taken\n",
    "start_time = timeit.default_timer()\n",
    "df_test['fasttext_features'] = df_test['cleanTweet'].apply(get_fasttext_features)\n",
    "elapsed = timeit.default_timer() - start_time\n",
    "print(f'Time taken to extract features from test dataset with fasttext: {elapsed}')"
   ]
  },
  {
   "cell_type": "code",
   "execution_count": 181,
   "id": "10a1735f",
   "metadata": {},
   "outputs": [
    {
     "name": "stdout",
     "output_type": "stream",
     "text": [
      "Time taken to extract features from test dataset with XLNet: 104.09481154195964\n"
     ]
    }
   ],
   "source": [
    "#applying XLNet function to test dataset\n",
    "#retrieving time taken\n",
    "start_time = timeit.default_timer()\n",
    "df_test['xlnet_features'] = df_test['cleanTweet'].apply(get_xlnet_features)\n",
    "elapsed = timeit.default_timer() - start_time\n",
    "print(f'Time taken to extract features from test dataset with XLNet: {elapsed}')"
   ]
  },
  {
   "cell_type": "code",
   "execution_count": 196,
   "id": "da62b946",
   "metadata": {},
   "outputs": [
    {
     "name": "stdout",
     "output_type": "stream",
     "text": [
      "Accuracy of Linear Regression model: 0.8686915887850467\n",
      "Time taken for Linear Regression model: 15.918151166057214\n"
     ]
    }
   ],
   "source": [
    "#concatenating both features for model fitting\n",
    "X = pd.concat([df_train['fasttext_features'].apply(pd.Series), df_train['xlnet_features'].apply(pd.Series)], axis=1)\n",
    "y = df_train['encodedLabel']\n",
    "\n",
    "X_test = pd.concat([df_test['fasttext_features'].apply(pd.Series), df_test['xlnet_features'].apply(pd.Series)], axis=1)\n",
    "y_test = df_test['encodedLabel']\n",
    "\n",
    "\n",
    "#initialize model and training\n",
    "start_time = timeit.default_timer()\n",
    "lr_model = LogisticRegression(solver='lbfgs', max_iter=5000)\n",
    "lr_model.fit(X, y)\n",
    "\n",
    "#prediction\n",
    "predictions_lr = lr_model.predict(X_test)\n",
    "elapsed = timeit.default_timer() - start_time\n",
    "#checking accuracy\n",
    "accuracy = accuracy_score(y_test, predictions_lr)\n",
    "print(f'Accuracy of Linear Regression model: {accuracy}')\n",
    "print(f'Time taken for Linear Regression model: {elapsed}')"
   ]
  },
  {
   "cell_type": "code",
   "execution_count": 183,
   "id": "e16cd372",
   "metadata": {},
   "outputs": [
    {
     "name": "stdout",
     "output_type": "stream",
     "text": [
      "Classification report of Linear Regression model\n",
      "              precision    recall  f1-score   support\n",
      "\n",
      "           0       0.85      0.88      0.86      1020\n",
      "           1       0.89      0.86      0.87      1120\n",
      "\n",
      "    accuracy                           0.87      2140\n",
      "   macro avg       0.87      0.87      0.87      2140\n",
      "weighted avg       0.87      0.87      0.87      2140\n",
      "\n"
     ]
    }
   ],
   "source": [
    "#checking all metrics\n",
    "lr_class = classification_report(y_test, predictions_lr)\n",
    "print(f'Classification report of Linear Regression model')\n",
    "print(f'{lr_class}')"
   ]
  },
  {
   "cell_type": "code",
   "execution_count": 184,
   "id": "fb4f5955",
   "metadata": {},
   "outputs": [
    {
     "name": "stdout",
     "output_type": "stream",
     "text": [
      "Accuracy of Naive Bayes model: 0.7929906542056074\n",
      "Time taken for Naive Bayes model: 0.07559666712768376\n"
     ]
    }
   ],
   "source": [
    "#NB model\n",
    "scaler = MinMaxScaler()\n",
    "X_nb = scaler.fit_transform(X)\n",
    "X_test_nb = scaler.fit_transform(X_test)\n",
    "\n",
    "start_time = timeit.default_timer()\n",
    "nb_model = MultinomialNB()\n",
    "nb_model.fit(X_nb,y)\n",
    "\n",
    "#prediction\n",
    "predictions_nb = nb_model.predict(X_test_nb)\n",
    "elapsed_nb = timeit.default_timer() - start_time\n",
    "\n",
    "accuracy_nb = accuracy_score(y_test, predictions_nb)\n",
    "print(f'Accuracy of Naive Bayes model: {accuracy_nb}')\n",
    "print(f'Time taken for Naive Bayes model: {elapsed_nb}')"
   ]
  },
  {
   "cell_type": "code",
   "execution_count": 185,
   "id": "3b6819df",
   "metadata": {},
   "outputs": [
    {
     "name": "stdout",
     "output_type": "stream",
     "text": [
      "Classification report of Naive Bayes model\n",
      "              precision    recall  f1-score   support\n",
      "\n",
      "           0       0.77      0.81      0.79      1020\n",
      "           1       0.82      0.78      0.80      1120\n",
      "\n",
      "    accuracy                           0.79      2140\n",
      "   macro avg       0.79      0.79      0.79      2140\n",
      "weighted avg       0.79      0.79      0.79      2140\n",
      "\n"
     ]
    }
   ],
   "source": [
    "#checking all metrics\n",
    "nb_class = classification_report(y_test, predictions_nb)\n",
    "print(f'Classification report of Naive Bayes model')\n",
    "print(f'{nb_class}')"
   ]
  },
  {
   "cell_type": "code",
   "execution_count": 186,
   "id": "12d0fc77",
   "metadata": {},
   "outputs": [
    {
     "name": "stdout",
     "output_type": "stream",
     "text": [
      "Accuracy of Random Forest model: 0.8733644859813084\n",
      "Time taken for Random Forest model: 12.428017165977508\n"
     ]
    }
   ],
   "source": [
    "#RF model\n",
    "start_time_rf = timeit.default_timer()\n",
    "rf_model = RandomForestClassifier(n_estimators=100, criterion='entropy', class_weight='balanced_subsample', random_state=42)\n",
    "rf_model.fit(X, y)\n",
    "\n",
    "predictions_rf = rf_model.predict(X_test)\n",
    "elapsed_rf = timeit.default_timer() - start_time_rf\n",
    "\n",
    "accuracy_rf = accuracy_score(y_test, predictions_rf)\n",
    "print(f'Accuracy of Random Forest model: {accuracy_rf}')\n",
    "print(f'Time taken for Random Forest model: {elapsed_rf}')"
   ]
  },
  {
   "cell_type": "code",
   "execution_count": 187,
   "id": "6160ea1c",
   "metadata": {},
   "outputs": [
    {
     "name": "stdout",
     "output_type": "stream",
     "text": [
      "Classification report of Random Forest model\n",
      "              precision    recall  f1-score   support\n",
      "\n",
      "           0       0.85      0.89      0.87      1020\n",
      "           1       0.89      0.86      0.88      1120\n",
      "\n",
      "    accuracy                           0.87      2140\n",
      "   macro avg       0.87      0.87      0.87      2140\n",
      "weighted avg       0.87      0.87      0.87      2140\n",
      "\n"
     ]
    }
   ],
   "source": [
    "#checking all metrics\n",
    "rf_class = classification_report(y_test, predictions_rf)\n",
    "print(f'Classification report of Random Forest model')\n",
    "print(f'{rf_class}')"
   ]
  },
  {
   "cell_type": "code",
   "execution_count": 188,
   "id": "9a54160b",
   "metadata": {},
   "outputs": [
    {
     "name": "stdout",
     "output_type": "stream",
     "text": [
      "Accuracy of SVM model: 0.8696261682242991\n",
      "Time taken for SVM model: 64.15167300007306\n"
     ]
    }
   ],
   "source": [
    "#SVM model\n",
    "start_time_svm = timeit.default_timer()\n",
    "svm_model = SVC(kernel='linear', random_state=42)\n",
    "svm_model.fit(X, y)\n",
    "\n",
    "predictions_svm = svm_model.predict(X_test)\n",
    "elapsed_svm = timeit.default_timer() - start_time_svm\n",
    "\n",
    "accuracy_svm = accuracy_score(y_test, predictions_svm)\n",
    "print(f'Accuracy of SVM model: {accuracy_svm}')\n",
    "print(f'Time taken for SVM model: {elapsed_svm}')"
   ]
  },
  {
   "cell_type": "code",
   "execution_count": 189,
   "id": "e03447dd",
   "metadata": {},
   "outputs": [
    {
     "name": "stdout",
     "output_type": "stream",
     "text": [
      "Classification report of SVM model\n",
      "              precision    recall  f1-score   support\n",
      "\n",
      "           0       0.85      0.88      0.87      1020\n",
      "           1       0.89      0.86      0.87      1120\n",
      "\n",
      "    accuracy                           0.87      2140\n",
      "   macro avg       0.87      0.87      0.87      2140\n",
      "weighted avg       0.87      0.87      0.87      2140\n",
      "\n"
     ]
    }
   ],
   "source": [
    "#checking all metrics\n",
    "svm_class = classification_report(y_test, predictions_svm)\n",
    "print(f'Classification report of SVM model')\n",
    "print(f'{svm_class}')"
   ]
  },
  {
   "cell_type": "code",
   "execution_count": 190,
   "id": "b9ffdb03",
   "metadata": {},
   "outputs": [],
   "source": [
    "#checking all metrics\n",
    "lr_report = classification_report(y_test, predictions_lr, output_dict = True)\n",
    "nb_report = classification_report(y_test, predictions_nb, output_dict = True)\n",
    "rf_report = classification_report(y_test, predictions_rf, output_dict = True)\n",
    "svm_report = classification_report(y_test, predictions_svm, output_dict = True)"
   ]
  },
  {
   "cell_type": "code",
   "execution_count": 191,
   "id": "c7d68ed8",
   "metadata": {},
   "outputs": [],
   "source": [
    "#function to create classification report table\n",
    "def crTable(data, model):\n",
    "    accuracy = data['accuracy']\n",
    "    ogData = pd.DataFrame(data)\n",
    "    dataT = ogData.transpose()\n",
    "    finalData = pd.DataFrame(dataT, index=['macro avg'])\n",
    "    finalData.loc['macro avg', 'accuracy'] = accuracy\n",
    "    finalData.rename(index={'macro avg': model}, inplace=True)\n",
    "    return finalData"
   ]
  },
  {
   "cell_type": "code",
   "execution_count": 192,
   "id": "1253ab71",
   "metadata": {},
   "outputs": [],
   "source": [
    "#creating classification report table for all models\n",
    "svm_results = crTable(svm_report, 'SVM')\n",
    "lr_results = crTable(lr_report, 'LR')\n",
    "rf_results = crTable(rf_report, 'RF')\n",
    "nb_results = crTable(nb_report, 'NB')"
   ]
  },
  {
   "cell_type": "code",
   "execution_count": 193,
   "id": "0b01afb5",
   "metadata": {},
   "outputs": [
    {
     "data": {
      "text/html": [
       "<div>\n",
       "<style scoped>\n",
       "    .dataframe tbody tr th:only-of-type {\n",
       "        vertical-align: middle;\n",
       "    }\n",
       "\n",
       "    .dataframe tbody tr th {\n",
       "        vertical-align: top;\n",
       "    }\n",
       "\n",
       "    .dataframe thead th {\n",
       "        text-align: right;\n",
       "    }\n",
       "</style>\n",
       "<table border=\"1\" class=\"dataframe\">\n",
       "  <thead>\n",
       "    <tr style=\"text-align: right;\">\n",
       "      <th></th>\n",
       "      <th>precision</th>\n",
       "      <th>recall</th>\n",
       "      <th>f1-score</th>\n",
       "      <th>accuracy</th>\n",
       "    </tr>\n",
       "  </thead>\n",
       "  <tbody>\n",
       "    <tr>\n",
       "      <th>SVM</th>\n",
       "      <td>0.869328</td>\n",
       "      <td>0.870019</td>\n",
       "      <td>0.869490</td>\n",
       "      <td>0.869626</td>\n",
       "    </tr>\n",
       "    <tr>\n",
       "      <th>LR</th>\n",
       "      <td>0.868413</td>\n",
       "      <td>0.869126</td>\n",
       "      <td>0.868563</td>\n",
       "      <td>0.868692</td>\n",
       "    </tr>\n",
       "    <tr>\n",
       "      <th>RF</th>\n",
       "      <td>0.873194</td>\n",
       "      <td>0.873985</td>\n",
       "      <td>0.873268</td>\n",
       "      <td>0.873364</td>\n",
       "    </tr>\n",
       "    <tr>\n",
       "      <th>NB</th>\n",
       "      <td>0.793208</td>\n",
       "      <td>0.793829</td>\n",
       "      <td>0.792915</td>\n",
       "      <td>0.792991</td>\n",
       "    </tr>\n",
       "  </tbody>\n",
       "</table>\n",
       "</div>"
      ],
      "text/plain": [
       "     precision    recall  f1-score  accuracy\n",
       "SVM   0.869328  0.870019  0.869490  0.869626\n",
       "LR    0.868413  0.869126  0.868563  0.868692\n",
       "RF    0.873194  0.873985  0.873268  0.873364\n",
       "NB    0.793208  0.793829  0.792915  0.792991"
      ]
     },
     "execution_count": 193,
     "metadata": {},
     "output_type": "execute_result"
    }
   ],
   "source": [
    "#concatenating all tables into 1\n",
    "result = [svm_results, lr_results, rf_results, nb_results]\n",
    "main_table = pd.concat(result)\n",
    "main_table = main_table.drop(columns='support')\n",
    "main_table"
   ]
  },
  {
   "cell_type": "code",
   "execution_count": 197,
   "id": "32f8d5d9",
   "metadata": {},
   "outputs": [
    {
     "name": "stdout",
     "output_type": "stream",
     "text": [
      "Time taken for Linear Regression model: 15.918151166057214 seconds\n",
      "Time taken for Naive Bayes model: 0.07559666712768376 seconds\n",
      "Time taken for Random Forest model: 12.428017165977508 seconds\n",
      "Time taken for SVM model: 64.15167300007306 seconds\n"
     ]
    }
   ],
   "source": [
    "print(f'Time taken for Linear Regression model: {elapsed} seconds')\n",
    "print(f'Time taken for Naive Bayes model: {elapsed_nb} seconds')\n",
    "print(f'Time taken for Random Forest model: {elapsed_rf} seconds')\n",
    "print(f'Time taken for SVM model: {elapsed_svm} seconds')"
   ]
  },
  {
   "cell_type": "code",
   "execution_count": 198,
   "id": "5bdd2b4b",
   "metadata": {},
   "outputs": [
    {
     "data": {
      "text/html": [
       "<div>\n",
       "<style scoped>\n",
       "    .dataframe tbody tr th:only-of-type {\n",
       "        vertical-align: middle;\n",
       "    }\n",
       "\n",
       "    .dataframe tbody tr th {\n",
       "        vertical-align: top;\n",
       "    }\n",
       "\n",
       "    .dataframe thead th {\n",
       "        text-align: right;\n",
       "    }\n",
       "</style>\n",
       "<table border=\"1\" class=\"dataframe\">\n",
       "  <thead>\n",
       "    <tr style=\"text-align: right;\">\n",
       "      <th></th>\n",
       "      <th>precision</th>\n",
       "      <th>recall</th>\n",
       "      <th>f1-score</th>\n",
       "      <th>accuracy</th>\n",
       "      <th>time taken</th>\n",
       "    </tr>\n",
       "  </thead>\n",
       "  <tbody>\n",
       "    <tr>\n",
       "      <th>SVM</th>\n",
       "      <td>0.869328</td>\n",
       "      <td>0.870019</td>\n",
       "      <td>0.869490</td>\n",
       "      <td>0.869626</td>\n",
       "      <td>64.151673</td>\n",
       "    </tr>\n",
       "    <tr>\n",
       "      <th>LR</th>\n",
       "      <td>0.868413</td>\n",
       "      <td>0.869126</td>\n",
       "      <td>0.868563</td>\n",
       "      <td>0.868692</td>\n",
       "      <td>15.918151</td>\n",
       "    </tr>\n",
       "    <tr>\n",
       "      <th>RF</th>\n",
       "      <td>0.873194</td>\n",
       "      <td>0.873985</td>\n",
       "      <td>0.873268</td>\n",
       "      <td>0.873364</td>\n",
       "      <td>12.428017</td>\n",
       "    </tr>\n",
       "    <tr>\n",
       "      <th>NB</th>\n",
       "      <td>0.793208</td>\n",
       "      <td>0.793829</td>\n",
       "      <td>0.792915</td>\n",
       "      <td>0.792991</td>\n",
       "      <td>0.075597</td>\n",
       "    </tr>\n",
       "  </tbody>\n",
       "</table>\n",
       "</div>"
      ],
      "text/plain": [
       "     precision    recall  f1-score  accuracy  time taken\n",
       "SVM   0.869328  0.870019  0.869490  0.869626   64.151673\n",
       "LR    0.868413  0.869126  0.868563  0.868692   15.918151\n",
       "RF    0.873194  0.873985  0.873268  0.873364   12.428017\n",
       "NB    0.793208  0.793829  0.792915  0.792991    0.075597"
      ]
     },
     "execution_count": 198,
     "metadata": {},
     "output_type": "execute_result"
    }
   ],
   "source": [
    "#adding time taken to main table\n",
    "main_table['time taken'] = [elapsed_svm, elapsed, elapsed_rf, elapsed_nb]\n",
    "main_table"
   ]
  },
  {
   "cell_type": "code",
   "execution_count": null,
   "id": "66577504",
   "metadata": {},
   "outputs": [],
   "source": []
  }
 ],
 "metadata": {
  "kernelspec": {
   "display_name": "Python 3 (ipykernel)",
   "language": "python",
   "name": "python3"
  },
  "language_info": {
   "codemirror_mode": {
    "name": "ipython",
    "version": 3
   },
   "file_extension": ".py",
   "mimetype": "text/x-python",
   "name": "python",
   "nbconvert_exporter": "python",
   "pygments_lexer": "ipython3",
   "version": "3.11.1"
  }
 },
 "nbformat": 4,
 "nbformat_minor": 5
}
